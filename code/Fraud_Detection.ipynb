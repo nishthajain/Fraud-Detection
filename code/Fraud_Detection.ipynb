{
 "cells": [
  {
   "cell_type": "markdown",
   "metadata": {},
   "source": [
    "# Predictive modeling:\n",
    "Predictive modeling is the process by which a model is created to predict an outcome. If the outcome is categorical it is called classification and if the outcome is numerical it is called regression.  Descriptive modeling or clustering is the assignment of observations into clusters so that observations in the same cluster are similar. Finally, association rules can find interesting associations amongst observations.In this particular case we are going to discuss a classification modeling case.\n",
    "\n",
    "## Context\n",
    "It is important that e-commerce companies are able to recognize fraudulent transactions so that customers are not charged for items that they did not purchase.\n",
    "\n",
    "### Problem Statement\n",
    "Identify if a particular transaction is fraudulent or not. It is a binomial classification problem.\n",
    "\n",
    "### Data Preparation\n",
    "The data set contains 2 different data files:\n",
    "1 Transactional_dataset.csv\n",
    "2 Network_dataset.csv\n",
    "The whole dataset is a combination of both categorical and numerical variables. The dataset presents transactions that occurred between a merchant and a customer of an e-commerce company, where the e-commerce Company plays the role of a market place. Our ultimate motive is to build/train a model on the given dataset which will be able to predict if a transaction is fraudulent or not.\n",
    "We will be using Python for solving this machine learning problem. Let’s start with loading the dataset in python."
   ]
  },
  {
   "cell_type": "code",
   "execution_count": 1,
   "metadata": {},
   "outputs": [
    {
     "name": "stderr",
     "output_type": "stream",
     "text": [
      "INFO:__main__:Input files:\n",
      "['Network_dataset.csv', 'Transactional_dataset.csv']\n",
      "INFO:__main__:Loading data sets...\n",
      "INFO:__main__:Data loaded.\n",
      "INFO:__main__:Main application Transactional data set shape = (594643, 11)\n",
      "INFO:__main__:Main application Network data set shape = (594643, 6)\n"
     ]
    }
   ],
   "source": [
    "#Import required Packages\n",
    "import pandas as pd\n",
    "import os\n",
    "import logging\n",
    "\n",
    "# Configure Logging\n",
    "logging.basicConfig(level=logging.DEBUG)\n",
    "logger = logging.getLogger(__name__)\n",
    "\n",
    "\"\"\" Load Data set \"\"\"\n",
    "def load_data(foldername):\n",
    "    \n",
    "    \"\"\" Read input data \"\"\"\n",
    "    input_dir = os.path.join(os.pardir, foldername)\n",
    "    logger.info('Input files:\\n{}'.format(os.listdir(input_dir)))\n",
    "    logger.info('Loading data sets...')\n",
    "    sample_size = None\n",
    "    Transactional_df = pd.read_csv(os.path.join(input_dir, 'Transactional_dataset.csv'), nrows=sample_size).reset_index()\n",
    "    Network_df = pd.read_csv(os.path.join(input_dir, 'Network_dataset.csv'), nrows=sample_size).reset_index()\n",
    "    logger.info('Data loaded.')\n",
    "    logger.info('Main application Transactional data set shape = {}'.format(Transactional_df.shape))\n",
    "    logger.info('Main application Network data set shape = {}'.format(Network_df.shape))\n",
    "\n",
    "    return Transactional_df, Network_df\n",
    "\n",
    "foldername = 'data'\n",
    "Transactional_df, Network_df = load_data(foldername)"
   ]
  },
  {
   "cell_type": "markdown",
   "metadata": {},
   "source": [
    "### Merging Data\n",
    "Now we will have to merge these files into 1 file based on the common ids/ columns in both the files.\n",
    "If we closely have a look at both the data files, we will understand that there are different column names for merchant data and customer data in both the files. We simply create a common_id in both files which concatenates all the common columns in both the files in order."
   ]
  },
  {
   "cell_type": "code",
   "execution_count": 2,
   "metadata": {},
   "outputs": [
    {
     "name": "stderr",
     "output_type": "stream",
     "text": [
      "DEBUG:__main__:List of all the variables in merged data :\n",
      "Index(['customer', 'age', 'gender', 'merchant', 'category', 'amount', 'fraud'], dtype='object')\n",
      "DEBUG:__main__:Shape of final data :\n",
      "(594643, 7)\n"
     ]
    }
   ],
   "source": [
    "Transactional_df['common_id'] = Transactional_df['index'].astype('str') + Transactional_df['customer'].astype('str') + Transactional_df['merchant'].astype('str') + Transactional_df['category'].astype('str') + Transactional_df['fraud'].astype('str')\n",
    "Network_df['common_id'] = Network_df['index'].astype('str') + Network_df['Source'].astype('str') + Network_df['Target'].astype('str') + Network_df['typeTrans'].astype('str') + Network_df['fraud'].astype('str')\n",
    "\n",
    "\"\"\" Merge Transactional and Network dataset into single DataFrame \"\"\"\n",
    "dfinal = Transactional_df[['common_id', 'step', 'customer', 'age', 'gender', 'merchant', 'category', 'amount']].merge(Network_df, how='inner', on = ['common_id'])\n",
    "dfinal = dfinal[['customer', 'age', 'gender', 'merchant', 'category', 'amount', 'fraud']]\n",
    "logger.debug('List of all the variables in merged data :\\n{0}'.format(dfinal.columns))\n",
    "logger.debug('Shape of final data :\\n{0}'.format(dfinal.shape))"
   ]
  },
  {
   "cell_type": "markdown",
   "metadata": {},
   "source": [
    "## Imputation\n",
    "We will now focus on the basic data preprocessing techniques which play a very important role in modeling. \n",
    "We will have to work on treating missing data. For this we will use 2 approaches,\n",
    "        if count of missing values in a variable is greater than 50 percent:\n",
    "            Discard the variables from analysis\n",
    "        else:\n",
    "            Use generic imputation techniques like mean and mode"
   ]
  },
  {
   "cell_type": "code",
   "execution_count": 3,
   "metadata": {},
   "outputs": [
    {
     "name": "stderr",
     "output_type": "stream",
     "text": [
      "INFO:__main__:Started Data Preprocessing\n",
      "INFO:__main__:Number of missing values in each column \n",
      "customer    0\n",
      "age         0\n",
      "gender      0\n",
      "merchant    0\n",
      "category    0\n",
      "amount      0\n",
      "fraud       0\n",
      "dtype: int64\n",
      "DEBUG:__main__:Starting generic imputation methods on all the variables\n",
      "DEBUG:__main__:Generic imputation on categorical variables\n",
      "DEBUG:__main__:Generic imputation on numerical variables\n"
     ]
    }
   ],
   "source": [
    "\"\"\" Data Preprocessing\"\"\"\n",
    "def data_preprocessing(dfinal):\n",
    "\n",
    "    \"\"\" This function is used for treating missing value data.\n",
    "        if missing value in a variable is greater than 50 percent:\n",
    "            Discard the variables from analysis\n",
    "        else:\n",
    "            Use generic imputation techniques like mean and mode\n",
    "    \"\"\"\n",
    "\n",
    "    logger.info('Started Data Preprocessing')\n",
    "\n",
    "    #Check for variables with missing data\n",
    "    logger.info('Number of missing values in each column \\n{0}'.format(dfinal.isnull().sum()))\n",
    "    missing_df = pd.DataFrame(dfinal.isnull().sum()).reset_index()\n",
    "    missing_df.columns = ['name', 'count']\n",
    "    missing_df['perc'] = (missing_df.loc[:,'count']/len(dfinal))*100\n",
    "    missing_df = missing_df.loc[missing_df['perc']>50,:].reset_index(drop = True)\n",
    "    dfinal.drop(list(set(list(missing_df['name']))), axis = 1,inplace=True)\n",
    "    dfinal.drop(['customer'], axis = 1,inplace=True)\n",
    "\n",
    "    #List of categorical varibles and numerical variables.These lists will be further used for converting variables to categorical and numerical datatype.\n",
    "    logger.debug('Starting generic imputation methods on all the variables')\n",
    "    cat_cols =['age', 'gender', 'merchant', 'category', 'fraud']\n",
    "    num_cols =['amount']\n",
    "\n",
    "    #Convert columns mentioned in cat_cols list to categorical variables\n",
    "    logger.debug('Generic imputation on categorical variables')\n",
    "    for var in cat_cols:\n",
    "        dfinal[var] = dfinal[var].astype('category')\n",
    "        if (var != 'fraud'):\n",
    "            dfinal[var].fillna(dfinal[var].mode()[0], inplace=True)\n",
    "\n",
    "    #Convert columns mentioned in num_cols list to numerical variables\n",
    "    logger.debug('Generic imputation on numerical variables')\n",
    "    for var in num_cols:\n",
    "        dfinal[var].fillna(dfinal[var].mean(), inplace=True)\n",
    "        dfinal[var] = dfinal[var].astype('int')\n",
    "\n",
    "    return dfinal, cat_cols\n",
    "\n",
    "Dfinal,categorical_feats = data_preprocessing(dfinal)\n"
   ]
  },
  {
   "cell_type": "markdown",
   "metadata": {},
   "source": [
    "As seen above, there are no missing values in the data. So the imputation process is basically not required on this dataset.\n",
    "\n",
    "### Feature Selection\n",
    "Now that we have our data ready with all the required preprocessing done, we need to check the importance of each variable we are considering. We will initially run chi square test on all our categorical variables. This test will let us know which categorical variables are important for the analysis.\n",
    "\n",
    "#### Chi-square test\n",
    "The chi-square test can be used to determine the association between categorical variables. It is based on the difference between the expected frequencies (e) and the observed frequencies (n) in one or more categories in the frequency table. The chi-square distribution returns a probability for the computed chi-square and the degree of freedom. A probability of zero shows a complete dependency between two categorical variables and a probability of one means that two categorical variables are completely independent. Tchouproff Contingency Coefficient measures the amount of dependency between two categorical variables.\n"
   ]
  },
  {
   "cell_type": "code",
   "execution_count": 4,
   "metadata": {},
   "outputs": [
    {
     "name": "stderr",
     "output_type": "stream",
     "text": [
      "DEBUG:__main__:Starting Feature Selection\n",
      "DEBUG:__main__:Implementing Chi Square Test between dependent variable \"FRAUD\" and all other categorical variables\n",
      "DEBUG:__main__:Implementing Chi-Square test between columns age and fraud\n",
      "DEBUG:__main__:[0, 1]\n",
      "Categories (2, int64): [0, 1]\n",
      "INFO:__main__:age is IMPORTANT for Prediction\n",
      "DEBUG:__main__:Implementing Chi-Square test between columns gender and fraud\n",
      "DEBUG:__main__:[0, 1]\n",
      "Categories (2, int64): [0, 1]\n",
      "INFO:__main__:gender is IMPORTANT for Prediction\n",
      "DEBUG:__main__:Implementing Chi-Square test between columns merchant and fraud\n",
      "DEBUG:__main__:[0, 1]\n",
      "Categories (2, int64): [0, 1]\n",
      "INFO:__main__:merchant is IMPORTANT for Prediction\n",
      "DEBUG:__main__:Implementing Chi-Square test between columns category and fraud\n",
      "DEBUG:__main__:[0, 1]\n",
      "Categories (2, int64): [0, 1]\n",
      "INFO:__main__:category is IMPORTANT for Prediction\n"
     ]
    }
   ],
   "source": [
    "import scipy.stats as st\n",
    "\n",
    "\"\"\" Feature Selection\"\"\"\n",
    "logger.debug('Starting Feature Selection')\n",
    "logger.debug('Implementing Chi Square Test between dependent variable \"FRAUD\" and all other categorical variables')\n",
    "\n",
    "def print_chisquare_result(Dfinal, colX, alpha, p):\n",
    "\n",
    "    result = \"\"\n",
    "    if p<alpha:\n",
    "        result=\"{0} is IMPORTANT for Prediction\".format(colX)\n",
    "    else:\n",
    "        result=\"{0} is NOT an important predictor. (Discard {0} from model)\".format(colX)\n",
    "        del Dfinal[colX]\n",
    "\n",
    "    logger.info(result)\n",
    "\n",
    "    return Dfinal\n",
    "\n",
    "def TestIndependence(Dfinal, colX, colY, alpha=0.05):\n",
    "\n",
    "    \"\"\"Implement Chi-Square Test between categorical variables\"\"\"\n",
    "    logger.debug('Implementing Chi-Square test between columns {0} and {1}'.format(colX, colY))\n",
    "    p = None #P-Value\n",
    "    chi2 = None #Chi Test Statistic\n",
    "    dof = None\n",
    "    dfTabular = None\n",
    "    dfExpected = None\n",
    "    X = Dfinal[colX].astype(str)\n",
    "    Y = Dfinal[colY].astype(str)\n",
    "    logger.debug(Dfinal[colY].unique())\n",
    "    dfObserved = pd.crosstab(Y,X)\n",
    "    chi2, p, dof, expected = st.chi2_contingency(dfObserved.values)\n",
    "    dfExpected = pd.DataFrame(expected, columns=dfObserved.columns, index = dfObserved.index)\n",
    "    Dfinal = print_chisquare_result(Dfinal, colX, alpha, p)\n",
    "    return Dfinal\n",
    "\n",
    "\"\"\" Chi Square Test \"\"\"\n",
    "for var in categorical_feats:\n",
    "    if (var != 'fraud'):\n",
    "        Dfinal = TestIndependence(Dfinal,colX=var, colY='fraud')"
   ]
  },
  {
   "cell_type": "markdown",
   "metadata": {},
   "source": [
    "According to the test, all the categorical variables are important for analysis. So, we include all the variables for the analysis.\n",
    "### Label Encoding\n",
    "To build a model, we need to encode the dataset using label encoding technique.The label encoding technique converts categorical data into model-understandable numerical data.\n",
    "\n",
    "Now, to label encode the columns, we import the LabelEncoder class from the sklearn library, fit and transform the columns of the data, and then replace the existing text data with the new encoded data. "
   ]
  },
  {
   "cell_type": "code",
   "execution_count": 5,
   "metadata": {},
   "outputs": [
    {
     "name": "stderr",
     "output_type": "stream",
     "text": [
      "INFO:__main__:Label encoding categorical features...\n",
      "INFO:__main__:Label encoding complete.\n",
      "DEBUG:__main__:Shape of final data :\n",
      "   age  gender  merchant  category  amount  fraud\n",
      "0    4       2        30        12       4      0\n",
      "1    2       2        30        12      39      0\n",
      "2    4       1        18        12      26      0\n",
      "3    3       2        30        12      17      0\n",
      "4    5       2        30        12      35      0\n"
     ]
    }
   ],
   "source": [
    "from sklearn.preprocessing import LabelEncoder\n",
    "\n",
    "\"\"\" Process the data set \"\"\"\n",
    "def process_dataframe(input_df, encoder_dict=None):\n",
    "    \n",
    "    # Label encode categorical variables\n",
    "    logger.info('Label encoding categorical features...')\n",
    "    categorical_feats = input_df.columns[input_df.dtypes == 'category']\n",
    "    categorical_feats = categorical_feats\n",
    "    encoder_dict = {}\n",
    "    for feat in categorical_feats:\n",
    "        encoder = LabelEncoder()\n",
    "        input_df[feat] = encoder.fit_transform(input_df[feat])\n",
    "        encoder_dict[feat] = encoder\n",
    "    logger.info('Label encoding complete.')\n",
    "    \n",
    "    return input_df, categorical_feats.tolist(), encoder_dict\n",
    "\n",
    "merged_df, categorical_feats, encoder_dict = process_dataframe(input_df=Dfinal)\n",
    "logger.debug('Shape of final data :\\n{0}'.format(merged_df.head()))"
   ]
  },
  {
   "cell_type": "markdown",
   "metadata": {},
   "source": [
    "### Train_test_Split\n",
    "\n",
    "The data we use is usually split into training data and test data. The training set contains a known output and the model learns on this data in order to be generalized to other data later on. We have the test dataset (or subset) in order to test our model’s prediction on this subset.\n",
    "\n",
    "Let’s see how to do this in Python. We’ll do this using the Scikit-Learn library and specifically the train_test_split method. "
   ]
  },
  {
   "cell_type": "code",
   "execution_count": 6,
   "metadata": {},
   "outputs": [
    {
     "name": "stderr",
     "output_type": "stream",
     "text": [
      "DEBUG:__main__:Train test split started\n"
     ]
    }
   ],
   "source": [
    "from sklearn.model_selection import train_test_split\n",
    "\n",
    "merged_df['fraud'] = merged_df['fraud'].astype(str)\n",
    "fraud = merged_df.pop('fraud')\n",
    "\n",
    "\"\"\" Train and test split \"\"\"\n",
    "logger.debug('Train test split started')\n",
    "X_train, X_test, y_train, y_test = train_test_split(merged_df,fraud, test_size=0.3, random_state=0)\n",
    "x = y_train.to_frame(name='fraud')\n"
   ]
  },
  {
   "cell_type": "markdown",
   "metadata": {},
   "source": [
    "### Handling Imabalance dataset\n",
    "As we know fraud detection data is always imbalanced i.e having more number of normal class than the number of fraud class.\n",
    "In this case, I have tried with multiple sampling techniques mentioned in the below function. Based on the performance I have finalized the SMOTE technique.\n",
    "\n",
    "SMOTE: SMOTE is an oversampling method. It works by creating synthetic samples from the minor class instead of creating copies."
   ]
  },
  {
   "cell_type": "code",
   "execution_count": 7,
   "metadata": {},
   "outputs": [
    {
     "name": "stderr",
     "output_type": "stream",
     "text": [
      "INFO:__main__:Ratio of target variable classes:\n",
      "0    411214\n",
      "1      5036\n",
      "Name: fraud, dtype: int64\n",
      "INFO:__main__:Sampling Function being used for handling imbalanced data: SMOTE\n",
      "c:\\users\\nishtha.kumar\\appdata\\local\\programs\\python\\python36-32\\lib\\site-packages\\sklearn\\utils\\deprecation.py:77: DeprecationWarning: Function _ratio_float is deprecated; Use a float for 'ratio' is deprecated from version 0.2. The support will be removed in 0.4. Use a dict, str, or a callable instead.\n",
      "  warnings.warn(msg, category=DeprecationWarning)\n",
      "c:\\users\\nishtha.kumar\\appdata\\local\\programs\\python\\python36-32\\lib\\site-packages\\imblearn\\utils\\deprecation.py:50: DeprecationWarning: 'k' is deprecated from 0.2 and will be removed in 0.4. Use 'k_neighbors' instead.\n",
      "  category=DeprecationWarning)\n"
     ]
    }
   ],
   "source": [
    "from imblearn.under_sampling import RandomUnderSampler, NearMiss, CondensedNearestNeighbour, EditedNearestNeighbours, RepeatedEditedNearestNeighbours, TomekLinks\n",
    "from imblearn.over_sampling import RandomOverSampler, SMOTE\n",
    "from imblearn.combine import SMOTEENN, SMOTETomek\n",
    "from imblearn.ensemble import BalanceCascade, EasyEnsemble\n",
    "\n",
    "sampling_func = 'SMOTE'\n",
    "\n",
    "def Balance_classes(X_train, y_train, Sampling_Function):\n",
    "    if Sampling_Function == 'RandomUnderSampler':\n",
    "        us = RandomUnderSampler(ratio = 0.5, random_state = 1)\n",
    "    elif Sampling_Function == 'NearMiss1':\n",
    "        us = NearMiss(ratio = 0.5, random_state = 1, version = 1, size_ngh = 3)\n",
    "    elif Sampling_Function == 'NearMiss2':\n",
    "        us = NearMiss(ratio = 0.5, random_state = 1, version = 2, size_ngh = 3)\n",
    "    elif Sampling_Function == 'NearMiss3':\n",
    "        us = NearMiss(ratio = 0.5, random_state = 1, version = 3, ver3_samp_ngh = 3)\n",
    "    elif Sampling_Function == 'CondensedNearestNeighbour':\n",
    "        us = CondensedNearestNeighbour(random_state = 1)\n",
    "    elif Sampling_Function == 'EditedNearestNeighbours':\n",
    "        us = EditedNearestNeighbours(random_state = 1, size_ngh = 5)\n",
    "    elif Sampling_Function == 'RepeatedEditedNearestNeighbours':\n",
    "        us = EditedNearestNeighbours(random_state = 1, size_ngh = 5)        \n",
    "    elif Sampling_Function == 'TomekLinks':\n",
    "        us = TomekLinks(random_state = 1)\n",
    "    elif Sampling_Function == 'RandomOverSampler':\n",
    "        us = RandomOverSampler(ratio = 0.5, random_state = 1)\n",
    "    elif Sampling_Function == 'SMOTE':\n",
    "        us = SMOTE(ratio = 0.5, k =5, random_state = 1)\n",
    "    elif Sampling_Function == 'SMOTETomek':\n",
    "        us = SMOTETomek(ratio = 0.5, k =5, random_state = 1)\n",
    "    elif Sampling_Function == 'SMOTEENN':\n",
    "        us = SMOTEENN(ratio = 0.5, k =5, random_state = 1, size_ngh = 5)\n",
    "    elif Sampling_Function == 'EasyEnsemble':\n",
    "        us = EasyEnsemble()\n",
    "    elif Sampling_Function == 'BalanceCascade_rf':\n",
    "        us = BalanceCascade(classifier = 'random-forest', random_state = 1)\n",
    "    elif Sampling_Function == 'BalanceCascade_svm':\n",
    "        us = BalanceCascade(classifier = 'linear-svm', random_state = 1)        \n",
    "\n",
    "    X_train_res, y_train_res = us.fit_sample(X_train, y_train)\n",
    "\n",
    "    return X_train_res, y_train_res\n",
    "\n",
    "\"\"\" Handle data Imbalance \"\"\"\n",
    "logger.info('Ratio of target variable classes:\\n{}'.format(x['fraud'].value_counts()))\n",
    "logger.info('Sampling Function being used for handling imbalanced data: {0}'.format(sampling_func))\n",
    "X_train_res, y_train_res = Balance_classes(X_train, y_train, Sampling_Function = sampling_func)\n"
   ]
  },
  {
   "cell_type": "markdown",
   "metadata": {},
   "source": [
    "### Modeling\n",
    "Now, its time to train the model and test it.This process of modeling involves 3 main steps:\n",
    "1 Train the model on the training data\n",
    "2 Test the model on the test data.\n",
    "3 Evaluate the test results.\n",
    "All the above 3 steps are combined in the below function.\n",
    "\n",
    "#### 1. Model Training:\n",
    "There are several classfication models that can be used for training. We have used Decision tree model in our case.\n",
    "##### Decision Tree:\n",
    "Decision tree builds classification or regression models in the form of a tree structure. It breaks down a dataset into smaller and smaller subsets while at the same time an associated decision tree is incrementally developed. The final result is a tree with decision nodes and leaf nodes. A decision node (e.g., Outlook) has two or more branches (e.g., Sunny, Overcast and Rainy). Leaf node (e.g., Play) represents a classification or decision. The topmost decision node in a tree which corresponds to the best predictor called root node. Decision trees can handle both categorical and numerical data.\n",
    "\n",
    "#### 2. Model Testing:\n",
    "For testing purpose, we run the trained model on the test data and fetch the predictions. Then compare the predictions with the actual values. The more similar the predictions are with the actual values, the more better the model is.\n",
    "\n",
    "#### 3. Model Evaluation:\n",
    "\n",
    "There are several metrics to evaluate the model performance. We have used accuracy and Area Under Curve in this case to measure our model performance.\n",
    "\n",
    "##### Accuracy: \n",
    "The proportion of the total number of predictions that were correct.\n",
    "\n",
    "##### Area Under the Curve (AUC):\n",
    "Area under ROC curve is often used as a measure of quality of the classification models. A random classifier has an area under the curve of 0.5, while AUC for a perfect classifier is equal to 1. In practice, most of the classification models have an AUC between 0.5 and 1.\n"
   ]
  },
  {
   "cell_type": "code",
   "execution_count": 9,
   "metadata": {},
   "outputs": [
    {
     "name": "stderr",
     "output_type": "stream",
     "text": [
      "INFO:__main__:Implementing Decision tree\n",
      "INFO:__main__:Accuracy on the training subset: 0.963\n",
      "INFO:__main__:Accuracy on the test subset: 0.957\n"
     ]
    },
    {
     "data": {
      "image/png": "[encoded data removed]",
      "text/plain": [
       "<Figure size 432x288 with 1 Axes>"
      ]
     },
     "metadata": {},
     "output_type": "display_data"
    },
    {
     "name": "stderr",
     "output_type": "stream",
     "text": [
      "DEBUG:__main__:DT_PREDICTIONS are as follows \n",
      ":['0' '0' '0' ... '0' '0' '0']\n",
      "DEBUG:__main__:Classification_report is : \n",
      "              precision    recall  f1-score   support\n",
      "\n",
      "          0       1.00      0.96      0.98    176229\n",
      "          1       0.22      0.97      0.35      2164\n",
      "\n",
      "avg / total       0.99      0.96      0.97    178393\n",
      "\n",
      "DEBUG:__main__:Confusion matrix is \n",
      " [[168575   7654]\n",
      " [    58   2106]]\n",
      "DEBUG:__main__:Ratio of classes before implementing sampling method: \n",
      " Counter({'0': 411214, '1': 5036})\n",
      "DEBUG:__main__:Ratio of classes after implementing sampling method: \n",
      " Counter({'0': 411214, '1': 205607})\n"
     ]
    },
    {
     "data": {
      "image/png": "[encoded data removed]",
      "text/plain": [
       "<Figure size 504x360 with 1 Axes>"
      ]
     },
     "metadata": {},
     "output_type": "display_data"
    }
   ],
   "source": [
    "from sklearn.tree import DecisionTreeClassifier\n",
    "import matplotlib.pyplot as plt\n",
    "import numpy as np\n",
    "from sklearn.metrics import confusion_matrix\n",
    "from sklearn.metrics import classification_report\n",
    "from sklearn.metrics import roc_curve, auc\n",
    "from collections import Counter\n",
    "from sklearn import metrics\n",
    "from graphviz import Source\n",
    "from sklearn.tree import export_graphviz\n",
    "from IPython.display import Image\n",
    "\n",
    "def DecisionTree(X_train, y_train, X_train_res, y_train_res, X_test, y_test):\n",
    "    \n",
    "    \"\"\" Implementing Decision Tree \"\"\"\n",
    "    dtc = DecisionTreeClassifier(random_state=0, class_weight=\"balanced\",max_leaf_nodes = 10)\n",
    "    X = pd.DataFrame(X_train_res)\n",
    "    X.columns = X_train.columns\n",
    "    y = pd.DataFrame(y_train_res)\n",
    "    y.columns = ['fraud']\n",
    "    dtc.fit(X,y)\n",
    "#    pipeline_model = PMMLPipeline([('dtc',dtc)]).fit(X, y)\n",
    "    input_dir = os.path.join(os.pardir, 'code')\n",
    "#    sklearn2pmml(pipeline_model,os.path.join(input_dir,\"FraudClassificationTree.pmml\"), with_repr = True)\n",
    "\n",
    "    logger.info('Implementing Decision tree')\n",
    "    logger.info('Accuracy on the training subset: {:.3f}'.format(dtc.score(X_train_res, y_train_res)))\n",
    "    logger.info('Accuracy on the test subset: {:.3f}'.format(dtc.score(X_test, y_test)))\n",
    "        \n",
    "    \"\"\" Feature Importance for DT \"\"\"\n",
    "    n_features = X_train_res.shape[1]\n",
    "    plt.barh(range(n_features), dtc.feature_importances_, align='center')\n",
    "    plt.yticks(np.arange(n_features), X_train.columns)\n",
    "    plt.rcParams[\"figure.figsize\"] = (7,5)\n",
    "    plt.xlabel('Feature Importance')\n",
    "    plt.ylabel('Feature')\n",
    "    plt.savefig('feature_imp_dt')\n",
    "    plt.show()\n",
    "    \n",
    "    \"\"\" Generate predictions on test data using DT model \"\"\"\n",
    "    DT_predictions = dtc.predict(X_test)\n",
    "    DT_predictions_proba = dtc.predict_proba(X_test)[:,1]\n",
    "    logger.debug('DT_PREDICTIONS are as follows \\n:{0}'.format(DT_predictions))\n",
    "    \n",
    "    \"\"\" Confusion Matrix for DT \"\"\"\n",
    "    confusion_mat = confusion_matrix((y_test), DT_predictions)\n",
    "    logger.debug('Classification_report is : \\n {0}'.format(classification_report((y_test), DT_predictions)))\n",
    "    logger.debug('Confusion matrix is \\n {0}'.format(confusion_mat))\n",
    "    logger.debug('Ratio of classes before implementing sampling method: \\n {0}'.format(Counter(y_train)))\n",
    "    logger.debug('Ratio of classes after implementing sampling method: \\n {0}'.format(Counter(y_train_res)))\n",
    "    \n",
    "    \"\"\" ROC Curve for DT \"\"\"\n",
    "    fpr, tpr, _ = metrics.roc_curve(pd.to_numeric(y_test), DT_predictions_proba.round())\n",
    "    roc_auc = auc(fpr, tpr)\n",
    "    plt.title('Receiver Operating Characteristic')\n",
    "    plt.rcParams[\"figure.figsize\"] = (7,5)\n",
    "    plt.plot(fpr, tpr, 'b', label='AUC = %0.2f'% roc_auc)\n",
    "    plt.legend(loc='lower right')\n",
    "    plt.plot([0,1],[0,1],'r--')\n",
    "    plt.xlim([-0.1,1.2])\n",
    "    plt.ylim([-0.1,1.2])\n",
    "    plt.ylabel('True Positive Rate')\n",
    "    plt.xlabel('False Positive Rate')\n",
    "    plt.savefig('DT_ROC')\n",
    "    plt.show()\n",
    "    \n",
    "    graph = Source(export_graphviz(dtc, out_file=None, feature_names=X_train.columns))\n",
    "    png_bytes = graph.pipe(format='png')\n",
    "    with open('dtree_pipe.png','wb') as f:\n",
    "        f.write(png_bytes)\n",
    "#    Image(png_bytes)    \n",
    "\n",
    "    return\n",
    "\"\"\" Implementing Decision Tree \"\"\"\n",
    "DecisionTree(X_train, y_train, X_train_res, y_train_res, X_test, y_test)"
   ]
  },
  {
   "cell_type": "markdown",
   "metadata": {},
   "source": [
    "### Results\n",
    "We have used AUC and accuracy as the metric to measure the performance of our model.As seen above, the model gives an accuracy of 95 percent on test data and AUC of 0.96. This shows that our model is performing well. In real time cases, the model usually doesn't perform that well because of the discrepancies in the data. Hence, data preprocessing plays a very main role in such cases. From the feature importance plot above, it is clear that 'gender' and 'age' are not important variables according to the model. We can rerun the model training by discarding these variables and again test the model. This is an iterative process of trial and error which ends when we are satisfied with our performance metrics like AUC and accuracy."
   ]
  },
  {
   "cell_type": "code",
   "execution_count": null,
   "metadata": {},
   "outputs": [],
   "source": []
  }
 ],
 "metadata": {
  "kernelspec": {
   "display_name": "Python 3",
   "language": "python",
   "name": "python3"
  },
  "language_info": {
   "codemirror_mode": {
    "name": "ipython",
    "version": 3
   },
   "file_extension": ".py",
   "mimetype": "text/x-python",
   "name": "python",
   "nbconvert_exporter": "python",
   "pygments_lexer": "ipython3",
   "version": "3.6.3"
  }
 },
 "nbformat": 4,
 "nbformat_minor": 2
}
